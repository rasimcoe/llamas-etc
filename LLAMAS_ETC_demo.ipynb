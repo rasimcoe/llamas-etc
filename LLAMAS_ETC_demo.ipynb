{
 "cells": [
  {
   "cell_type": "markdown",
   "id": "457e8e02",
   "metadata": {},
   "source": [
    "![title](LLAMAS_llama.png)"
   ]
  },
  {
   "cell_type": "markdown",
   "id": "3b84a26a",
   "metadata": {},
   "source": [
    "# Introduction\n",
    "\n",
    "This notebook explains use of the LLAMAS exposure time calculator (ETC).\n",
    "\n",
    "The ETC is provided by the instrument team; it is based on laboratory data, and a working model of the instrument and Magellan telescopes. We are sharing it to help users plan proposals and observing runs.  It represents a best-effort attempt to simulate observations, but we cannot guarantee that it will provide accurate results for your use case until we have meausred accurate instrument throughput on the sky, at which point this repository will be updated.\n",
    "\n",
    "Users are responsible for providing accurate input spectra on a grid of wavelength (in nm) versus flux in f_lambda units (erg/cm2/s/A).  \n",
    "\n",
    "Good luck with your observation planning!"
   ]
  },
  {
   "cell_type": "markdown",
   "id": "6d2462c4",
   "metadata": {},
   "source": [
    "# Import libraries\n",
    "\n",
    "After installing the llamas-etc package from github, start by loading relevant libraries.  The first two of these are specific to the llamas-etc."
   ]
  },
  {
   "cell_type": "code",
   "execution_count": 1,
   "id": "3dc30cea",
   "metadata": {},
   "outputs": [],
   "source": [
    "import spectrograph as spec\n",
    "import observe\n",
    "import numpy as np\n",
    "import matplotlib.pyplot as plt\n",
    "from   astropy.table import Table"
   ]
  },
  {
   "cell_type": "markdown",
   "id": "a53ccae7",
   "metadata": {},
   "source": [
    "# Creating instances of the spectrographs\n",
    "\n",
    "The first calls are to instantiate objects representing the three arms of the spectrographs: blue, green, and red. There is no requirement to run all three arms for the ETC, as they are treated separately.  By default LLAMAS observes all three simultaneously, however.  At this stage, these objects are mostly empty and will need to be populated with instrument data."
   ]
  },
  {
   "cell_type": "code",
   "execution_count": 2,
   "id": "72a70ff9",
   "metadata": {},
   "outputs": [],
   "source": [
    "llamas_blue  = spec.Spectrograph('LLAMAS_BLUE')\n",
    "llamas_green = spec.Spectrograph('LLAMAS_GREEN')\n",
    "llamas_red   = spec.Spectrograph('LLAMAS_RED')"
   ]
  },
  {
   "cell_type": "markdown",
   "id": "accfef72",
   "metadata": {},
   "source": [
    "After the spectrograph objects are created, call the \"build_model\" method to read in relevant throughput and configuration data and create wavelength and throughput attributes for each channel. Running this method will print out a bunch of information about optical surfaces, which is normal, but unimportant for our purposes."
   ]
  },
  {
   "cell_type": "code",
   "execution_count": 3,
   "id": "39ead5d8",
   "metadata": {
    "scrolled": false
   },
   "outputs": [
    {
     "name": "stdout",
     "output_type": "stream",
     "text": [
      "\n",
      " LLAMAS_BLUE\n",
      "    MicroLens FusedSilica ECI_FusedSilica.txt ECI model\n",
      "    MicroLens FusedSilica ECI_FusedSilica.txt ECI model\n",
      "    Fiber_AR FusedSilica fiber_ar.txt ECI placeholder\n",
      "    Fiber_AR FusedSilica fiber_ar.txt ECI placeholder\n",
      "    Internal FusedSilica Polymicro_FBPI_8m.txt PolyMicro model\n",
      "    Collimator FusedSilica dielectric_mirror.txt ECI2 model\n",
      "    DichroicRG FusedSilica ECI_FusedSilica.txt ECI model\n",
      "    DichroicBG FusedSilica ECI_FusedSilica.txt ECI model\n",
      "    VPH_B 1200.0 420.0 0.0 VPHG/vph_wasach_blue_eavg.txt Wasach asbuilt\n",
      "    Prism FusedSilica ECI_FusedSilica.txt ECI model\n",
      "    L1 CaF2 ECI_FusedSilica.txt ECI placeholder\n",
      "    L1 CaF2 ECI_FusedSilica.txt ECI placeholder\n",
      "    L2 BAL35Y ECI_PBM8Y.txt ECI placeholder\n",
      "    L2 BAL35Y ECI_PBM8Y.txt ECI placeholder\n",
      "    L3 CaF2 ECI_FusedSilica.txt ECI placeholder\n",
      "    L3 CaF2 ECI_FusedSilica.txt ECI placeholder\n",
      "    L4 BSM51Y ECI_PBM8Y.txt ECI placeholder\n",
      "    L4 BSM51Y ECI_PBM8Y.txt ECI placeholder\n",
      "    L5 CaF2 ECI_FusedSilica.txt ECI placeholder\n",
      "    L5 CaF2 ECI_FusedSilica.txt ECI placeholder\n",
      "    L6 PBM2Y ECI_PBM8Y.txt ECI placeholder\n",
      "    L6 PBM2Y ECI_PBM8Y.txt ECI placeholder\n",
      "    L7 SNBH52 ECI_PBM8Y.txt ECI placeholder\n",
      "    L7 SNBH52 ECI_PBM8Y.txt ECI placeholder\n",
      "    WINDOW Sapphire ECI_FusedSilica.txt ECI placeholder\n",
      "    WINDOW Sapphire ECI_FusedSilica.txt ECI placeholder\n",
      "    GLASSTRANS Composite llamas_internal_blue.txt MIT model\n",
      "    CCD42-40_BLUE CCD42-40_blue.txt 2.46 0.00119\n",
      "\n",
      " LLAMAS_GREEN\n",
      "    MicroLens FusedSilica ECI_FusedSilica.txt ECI model\n",
      "    MicroLens FusedSilica ECI_FusedSilica.txt ECI model\n",
      "    Fiber_AR FusedSilica fiber_ar.txt ECI placeholder\n",
      "    Fiber_AR FusedSilica fiber_ar.txt ECI placeholder\n",
      "    Internal FusedSilica Polymicro_FBPI_8m.txt PolyMicro model\n",
      "    Collimator FusedSilica dielectric_mirror.txt ECI2 model\n",
      "    DichroicRG FusedSilica ECI_FusedSilica.txt ECI model\n",
      "    DichroicBG FusedSilica ECI_FusedSilica.txt ECI model\n",
      "    VPH_G 1200.0 420.0 0.0 VPHG/vph_wasach_green_eavg.txt Wasach asbuilt\n",
      "    Prism FusedSilica ECI_FusedSilica.txt ECI model\n",
      "    L1 CaF2 ECI_FusedSilica.txt ECI placeholder\n",
      "    L1 CaF2 ECI_FusedSilica.txt ECI placeholder\n",
      "    L2 BAL35Y ECI_PBM8Y.txt ECI placeholder\n",
      "    L2 BAL35Y ECI_PBM8Y.txt ECI placeholder\n",
      "    L3 CaF2 ECI_FusedSilica.txt ECI placeholder\n",
      "    L3 CaF2 ECI_FusedSilica.txt ECI placeholder\n",
      "    L4 BSM51Y ECI_PBM8Y.txt ECI placeholder\n",
      "    L4 BSM51Y ECI_PBM8Y.txt ECI placeholder\n",
      "    L5 CaF2 ECI_FusedSilica.txt ECI placeholder\n",
      "    L5 CaF2 ECI_FusedSilica.txt ECI placeholder\n",
      "    L6 PBM2Y ECI_PBM8Y.txt ECI placeholder\n",
      "    L6 PBM2Y ECI_PBM8Y.txt ECI placeholder\n",
      "    L7 SNBH52 ECI_PBM8Y.txt ECI placeholder\n",
      "    L7 SNBH52 ECI_PBM8Y.txt ECI placeholder\n",
      "    WINDOW Sapphire ECI_FusedSilica.txt ECI placeholder\n",
      "    WINDOW Sapphire ECI_FusedSilica.txt ECI placeholder\n",
      "    CCD42-40_GREEN CCD42-40_green.txt 2.46 0.00119\n",
      "\n",
      " LLAMAS_RED\n",
      "    MicroLens FusedSilica ECI_FusedSilica.txt ECI model\n",
      "    MicroLens FusedSilica ECI_FusedSilica.txt ECI model\n",
      "    Fiber_AR FusedSilica fiber_ar.txt ECI placeholder\n",
      "    Fiber_AR FusedSilica fiber_ar.txt ECI placeholder\n",
      "    Internal FusedSilica Polymicro_FBPI_8m.txt PolyMicro model\n",
      "    Collimator FusedSilica dielectric_mirror.txt ECI2 model\n",
      "    DichroicRG FusedSilica ECI_FusedSilica.txt ECI model\n",
      "    VPH_B 1200.0 420.0 0.0 VPHG/vph_wasach_red_eavg.txt Wasach asbuilt\n",
      "    Prism FusedSilica ECI_FusedSilica.txt ECI model\n",
      "    L1 CaF2 ECI_FusedSilica.txt ECI placeholder\n",
      "    L1 CaF2 ECI_FusedSilica.txt ECI placeholder\n",
      "    L2 BAL35Y ECI_PBM8Y.txt ECI placeholder\n",
      "    L2 BAL35Y ECI_PBM8Y.txt ECI placeholder\n",
      "    L3 CaF2 ECI_FusedSilica.txt ECI placeholder\n",
      "    L3 CaF2 ECI_FusedSilica.txt ECI placeholder\n",
      "    L4 BSM51Y ECI_PBM8Y.txt ECI placeholder\n",
      "    L4 BSM51Y ECI_PBM8Y.txt ECI placeholder\n",
      "    L5 CaF2 ECI_FusedSilica.txt ECI placeholder\n",
      "    L5 CaF2 ECI_FusedSilica.txt ECI placeholder\n",
      "    L6 PBM2Y ECI_PBM8Y.txt ECI placeholder\n",
      "    L6 PBM2Y ECI_PBM8Y.txt ECI placeholder\n",
      "    L7 SNBH52 ECI_PBM8Y.txt ECI placeholder\n",
      "    L7 SNBH52 ECI_PBM8Y.txt ECI placeholder\n",
      "    WINDOW Sapphire ECI_FusedSilica.txt ECI placeholder\n",
      "    WINDOW Sapphire ECI_FusedSilica.txt ECI placeholder\n",
      "    GLASSTRANS Composite llamas_internal_red.txt MIT model\n",
      "    CCD42-40_RED CCD42-40_dd.txt 2.29 0.00192\n"
     ]
    }
   ],
   "source": [
    "llamas_blue.build_model('llamas_blue.def')\n",
    "llamas_green.build_model('llamas_green.def')\n",
    "llamas_red.build_model('llamas_red.def')"
   ]
  },
  {
   "cell_type": "markdown",
   "id": "4901ffad",
   "metadata": {},
   "source": [
    "# Loading your input model spectrum\n",
    "\n",
    "Now we need to read in a model spectrum of the source to be observed.  We have provided an example model spectrum in the repository, consisting of a Type Ia supernova, scaled to 20th magnitude in R (but not redshifted). This is included to verify functionality of your installation for the ETC.\n",
    "\n",
    "You will of course need to generate your own high-SNR model input spectrum specific to your application.  It must be converted into units of wavelength (in nm) vs. flux density in f_lambda units (erg/cm2/s/A), and would normally be formatted as a two-column astropy table object."
   ]
  },
  {
   "cell_type": "code",
   "execution_count": 4,
   "id": "0670f236",
   "metadata": {},
   "outputs": [],
   "source": [
    "input_spectrum = Table.read(\"SN1a_R20mag.fits\")"
   ]
  },
  {
   "cell_type": "code",
   "execution_count": 5,
   "id": "bb25802c",
   "metadata": {},
   "outputs": [
    {
     "data": {
      "image/png": "[encoded data removed]",
      "text/plain": [
       "<Figure size 432x288 with 1 Axes>"
      ]
     },
     "metadata": {
      "needs_background": "light"
     },
     "output_type": "display_data"
    }
   ],
   "source": [
    "plt.plot(input_spectrum['wave(nm)'], input_spectrum['flux(erg/cm2/s/A)'])\n",
    "plt.xlabel(\"Wavelength (nm)\")\n",
    "plt.ylabel(\"Flux Density (erg/cm2/s/A)\")\n",
    "plt.show()"
   ]
  },
  {
   "cell_type": "markdown",
   "id": "91f1353b",
   "metadata": {},
   "source": [
    "# Running the Exposure Time Calculator\n",
    "\n",
    "Now we execute the simulated observation. This is done using the observe.observe_spectrum() function, which takes as inputs (a) the instrument object, (b) the exposure time, and (c+d) the wavelength and flux of your input model spectrum. The ETC will interpolate your input spectrum onto the wavelength grid appropriate to each channel of LLAMAS, and output a 2048-element vector corresponding to observed counts in one fiber.  "
   ]
  },
  {
   "cell_type": "code",
   "execution_count": 6,
   "id": "d083ea48",
   "metadata": {},
   "outputs": [],
   "source": [
    "texp = 1200\n",
    "blue_counts_electrons, blue_noise_electrons = observe.observe_spectrum(llamas_blue, texp, input_spectrum['wave(nm)'], input_spectrum['flux(erg/cm2/s/A)'])\n",
    "green_counts_electrons, green_noise_electrons = observe.observe_spectrum(llamas_green, texp, input_spectrum['wave(nm)'], input_spectrum['flux(erg/cm2/s/A)'])\n",
    "red_counts_electrons, red_noise_electrons = observe.observe_spectrum(llamas_red, texp, input_spectrum['wave(nm)'], input_spectrum['flux(erg/cm2/s/A)'])"
   ]
  },
  {
   "cell_type": "markdown",
   "id": "7bd8a8f7",
   "metadata": {},
   "source": [
    "The cell above runs the instrument simulator three times, once for each of the spectrograph channels.  The outputs are provided in units of photo-electrons of signal, and photo-electrons of noise."
   ]
  },
  {
   "cell_type": "markdown",
   "id": "b1677c84",
   "metadata": {},
   "source": [
    "# Plotting outputs\n",
    "\n",
    "The SNR for your observation is the ratio of these two outputs.\n",
    "\n",
    "The ETC accounts for the fact that the fiber's geometric image subtends slightly more than 2 pixels apiece in the dispersion and spatial directions, and takes in >1 pixel of the CCD's dark current and read noise accordingly.  "
   ]
  },
  {
   "cell_type": "code",
   "execution_count": 7,
   "id": "ce9ef272",
   "metadata": {},
   "outputs": [
    {
     "data": {
      "image/png": "[encoded data removed]",
      "text/plain": [
       "<Figure size 432x288 with 1 Axes>"
      ]
     },
     "metadata": {
      "needs_background": "light"
     },
     "output_type": "display_data"
    }
   ],
   "source": [
    "plt.plot(llamas_blue.waves, blue_counts_electrons/blue_noise_electrons, color='b')\n",
    "plt.plot(llamas_green.waves, green_counts_electrons/green_noise_electrons, color='g')\n",
    "plt.plot(llamas_red.waves, red_counts_electrons/red_noise_electrons, color='r')\n",
    "plt.xlabel('Wavelength(nm)')\n",
    "plt.ylabel('Signal-to-Noise Per Pixel')\n",
    "plt.show()"
   ]
  },
  {
   "cell_type": "markdown",
   "id": "d6bded06",
   "metadata": {},
   "source": [
    "# Conclusion and Caveats\n",
    "\n",
    "That's all there is to running the ETC!  \n",
    "\n",
    "There are a few items to remember when interpreting these results:\n",
    "\n",
    "1) The ETC assumes that all of the light goes down a single fiber, i.e. that the source is unresolved in the 0.75\" spaxel. If your source is resolved, or the seeing is lousy, you will need to adjust these outputs accordingly and we have not yet implemented that functionality (though it would be straightforward to split the light across N fibers/spaxels).  \n",
    "\n",
    "2) The ETC uses units of flux, and not surface brightness, but surface brightness is the more appropriate unit for resolved sources.  Future ETC versions may include surface brightness calculations, but intrepid users can implement this on their own using the following hints. Surface brightness can often be expressed in units of erg/cm2/s/A/square arcsec, or can be converted into these units from magnitudes per square arcsec or your unit of choice. It is your responsibility to convert into the first set of units (erg/cm2/s/A/sq.arcsec). Then, the subtended area of a fiber is provided as an attribute in the spectrograph object: llamas_blue.fiber.Afib, in square arcseconds. Multiply your surface brightness spectrum by this value, and then input that to the observe.observe_spectrum subroutine to output a correct SNR calculation!\n",
    "\n",
    "3) Once again, we remind users that this is a best-effort estimate based on multiplying the measured and model curves for optical glasses, coatings, mirrors, the fibers, and geometric shadows.  Users are urged to plan conservatively for early observing runs, until the team has an opportunity to observe spectro-photometric standard stars on the sky. When those observations are taken we will update the ETC gitib repository with as-measured throughputs so that future observers can forecast with confidence.\n",
    "\n",
    "Good luck with your observations and thanks for your interest in LLAMAS!"
   ]
  }
 ],
 "metadata": {
  "kernelspec": {
   "display_name": "Python 3 (ipykernel)",
   "language": "python",
   "name": "python3"
  },
  "language_info": {
   "codemirror_mode": {
    "name": "ipython",
    "version": 3
   },
   "file_extension": ".py",
   "mimetype": "text/x-python",
   "name": "python",
   "nbconvert_exporter": "python",
   "pygments_lexer": "ipython3",
   "version": "3.8.11"
  }
 },
 "nbformat": 4,
 "nbformat_minor": 5
}
